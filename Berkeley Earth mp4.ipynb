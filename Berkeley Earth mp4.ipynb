{
 "metadata": {
  "name": "",
  "signature": "sha256:6b33469095af8ce44ae3ee65a08f5bb9128ad003e4f866a53bf2c5f13959d606"
 },
 "nbformat": 3,
 "nbformat_minor": 0,
 "worksheets": [
  {
   "cells": [
    {
     "cell_type": "code",
     "collapsed": false,
     "input": [
      "# Setup capture dir\n",
      "import os\n",
      "\n",
      "if not os.path.exists(\"capture\"):\n",
      "    os.mkdir(\"capture\")"
     ],
     "language": "python",
     "metadata": {},
     "outputs": [],
     "prompt_number": 1
    },
    {
     "cell_type": "code",
     "collapsed": false,
     "input": [
      "# Download Berkeley Earth Land and Ocean Temperature anomaly data\n",
      "command = \"wget -P capture/ http://berkeleyearth.lbl.gov/auto/Global/Gridded/Land_and_Ocean_LatLong1.nc\"\n",
      "!$command  "
     ],
     "language": "python",
     "metadata": {},
     "outputs": [
      {
       "output_type": "stream",
       "stream": "stdout",
       "text": [
        "--2016-01-25 15:12:12--  http://berkeleyearth.lbl.gov/auto/Global/Gridded/Land_and_Ocean_LatLong1.nc\r\n",
        "Resolving berkeleyearth.lbl.gov... "
       ]
      },
      {
       "output_type": "stream",
       "stream": "stdout",
       "text": [
        "128.3.29.26\r\n",
        "Connecting to berkeleyearth.lbl.gov|128.3.29.26|:80... "
       ]
      },
      {
       "output_type": "stream",
       "stream": "stdout",
       "text": [
        "connected.\r\n",
        "HTTP request sent, awaiting response... "
       ]
      },
      {
       "output_type": "stream",
       "stream": "stdout",
       "text": [
        "200 OK\r\n",
        "Length: 430385139 (410M) [application/x-netcdf]\r\n",
        "Saving to: 'capture/Land_and_Ocean_LatLong1.nc.1'\r\n",
        "\r\n",
        "\r",
        "          Land_and_   0%[                      ]       0  --.-KB/s             "
       ]
      },
      {
       "output_type": "stream",
       "stream": "stdout",
       "text": [
        "\r",
        "         Land_and_O   0%[                      ]  55.54K   249KB/s             "
       ]
      },
      {
       "output_type": "stream",
       "stream": "stdout",
       "text": [
        "\r",
        "        Land_and_Oc   0%[                      ] 161.60K   350KB/s             "
       ]
      },
      {
       "output_type": "stream",
       "stream": "stdout",
       "text": [
        "\r",
        "       Land_and_Oce   0%[                      ] 377.95K   552KB/s             "
       ]
      },
      {
       "output_type": "stream",
       "stream": "stdout",
       "text": [
        "\r",
        "      Land_and_Ocea   0%[                      ] 833.28K   877KB/s             "
       ]
      },
      {
       "output_type": "stream",
       "stream": "stdout",
       "text": [
        "\r",
        "     Land_and_Ocean   0%[                      ]   1.28M  1.11MB/s             "
       ]
      },
      {
       "output_type": "stream",
       "stream": "stdout",
       "text": [
        "\r",
        "    Land_and_Ocean_   0%[                      ]   2.14M  1.58MB/s             "
       ]
      },
      {
       "output_type": "stream",
       "stream": "stdout",
       "text": [
        "\r",
        "   Land_and_Ocean_L   0%[                      ]   2.98M  1.91MB/s             "
       ]
      },
      {
       "output_type": "stream",
       "stream": "stdout",
       "text": [
        "\r",
        "  Land_and_Ocean_La   0%[                      ]   4.08M  2.32MB/s             "
       ]
      },
      {
       "output_type": "stream",
       "stream": "stdout",
       "text": [
        "\r",
        " Land_and_Ocean_Lat   1%[                      ]   5.50M  2.81MB/s             "
       ]
      },
      {
       "output_type": "stream",
       "stream": "stdout",
       "text": [
        "\r",
        "Land_and_Ocean_LatL   1%[                      ]   6.72M  3.11MB/s             "
       ]
      },
      {
       "output_type": "stream",
       "stream": "stdout",
       "text": [
        "\r",
        "and_and_Ocean_LatLo   1%[                      ]   7.76M  3.29MB/s             "
       ]
      },
      {
       "output_type": "stream",
       "stream": "stdout",
       "text": [
        "\r",
        "nd_and_Ocean_LatLon   2%[                      ]   8.56M  3.35MB/s             "
       ]
      },
      {
       "output_type": "stream",
       "stream": "stdout",
       "text": [
        "\r",
        "d_and_Ocean_LatLong   2%[                      ]   9.30M  3.34MB/s             "
       ]
      },
      {
       "output_type": "stream",
       "stream": "stdout",
       "text": [
        "\r",
        "_and_Ocean_LatLong1   2%[                      ]  10.14M  3.40MB/s             "
       ]
      },
      {
       "output_type": "stream",
       "stream": "stdout",
       "text": [
        "\r",
        "and_Ocean_LatLong1.   2%[                      ]  10.80M  3.39MB/s   eta 1m 58s"
       ]
      },
      {
       "output_type": "stream",
       "stream": "stdout",
       "text": [
        "\r",
        "nd_Ocean_LatLong1.n   2%[                      ]  11.46M  3.60MB/s   eta 1m 58s"
       ]
      },
      {
       "output_type": "stream",
       "stream": "stdout",
       "text": [
        "\r",
        "d_Ocean_LatLong1.nc   3%[                      ]  12.40M  3.81MB/s   eta 1m 58s"
       ]
      },
      {
       "output_type": "stream",
       "stream": "stdout",
       "text": [
        "\r",
        "_Ocean_LatLong1.nc.   3%[                      ]  13.10M  3.94MB/s   eta 1m 58s"
       ]
      },
      {
       "output_type": "stream",
       "stream": "stdout",
       "text": [
        "\r",
        "Ocean_LatLong1.nc.1   3%[                      ]  13.98M  4.22MB/s   eta 1m 58s"
       ]
      },
      {
       "output_type": "stream",
       "stream": "stdout",
       "text": [
        "\r",
        "cean_LatLong1.nc.1    3%[                      ]  14.82M  4.34MB/s   eta 1m 53s"
       ]
      },
      {
       "output_type": "stream",
       "stream": "stdout",
       "text": [
        "\r",
        "ean_LatLong1.nc.1     3%[                      ]  15.57M  4.36MB/s   eta 1m 53s"
       ]
      },
      {
       "output_type": "stream",
       "stream": "stdout",
       "text": [
        "\r",
        "an_LatLong1.nc.1      3%[                      ]  16.37M  4.35MB/s   eta 1m 53s"
       ]
      },
      {
       "output_type": "stream",
       "stream": "stdout",
       "text": [
        "\r",
        "n_LatLong1.nc.1       4%[                      ]  17.34M  4.32MB/s   eta 1m 53s"
       ]
      },
      {
       "output_type": "stream",
       "stream": "stdout",
       "text": [
        "\r",
        "_LatLong1.nc.1        4%[                      ]  18.17M  4.08MB/s   eta 1m 53s"
       ]
      },
      {
       "output_type": "stream",
       "stream": "stdout",
       "text": [
        "\r",
        "LatLong1.nc.1         4%[>                     ]  19.04M  4.14MB/s   eta 1m 49s"
       ]
      },
      {
       "output_type": "stream",
       "stream": "stdout",
       "text": [
        "\r",
        "atLong1.nc.1          4%[>                     ]  19.76M  4.00MB/s   eta 1m 49s"
       ]
      },
      {
       "output_type": "stream",
       "stream": "stdout",
       "text": [
        "\r",
        "tLong1.nc.1           5%[>                     ]  20.64M  3.88MB/s   eta 1m 49s"
       ]
      },
      {
       "output_type": "stream",
       "stream": "stdout",
       "text": [
        "\r",
        "Long1.nc.1            5%[>                     ]  21.40M  3.82MB/s   eta 1m 49s"
       ]
      },
      {
       "output_type": "stream",
       "stream": "stdout",
       "text": [
        "\r",
        "ong1.nc.1             5%[>                     ]  22.14M  3.84MB/s   eta 1m 49s"
       ]
      },
      {
       "output_type": "stream",
       "stream": "stdout",
       "text": [
        "\r",
        "ng1.nc.1              5%[>                     ]  22.80M  3.81MB/s   eta 1m 47s"
       ]
      },
      {
       "output_type": "stream",
       "stream": "stdout",
       "text": [
        "\r",
        "g1.nc.1               5%[>                     ]  23.48M  3.83MB/s   eta 1m 47s"
       ]
      },
      {
       "output_type": "stream",
       "stream": "stdout",
       "text": [
        "\r",
        "1.nc.1                5%[>                     ]  24.18M  3.79MB/s   eta 1m 47s"
       ]
      },
      {
       "output_type": "stream",
       "stream": "stdout",
       "text": [
        "\r",
        ".nc.1                 6%[>                     ]  24.97M  3.76MB/s   eta 1m 47s"
       ]
      },
      {
       "output_type": "stream",
       "stream": "stdout",
       "text": [
        "\r",
        "nc.1                  6%[>                     ]  25.76M  3.75MB/s   eta 1m 47s"
       ]
      },
      {
       "output_type": "stream",
       "stream": "stdout",
       "text": [
        "\r",
        "c.1                   6%[>                     ]  26.52M  3.75MB/s   eta 1m 46s"
       ]
      },
      {
       "output_type": "stream",
       "stream": "stdout",
       "text": [
        "\r",
        ".1                    6%[>                     ]  27.32M  3.78MB/s   eta 1m 46s"
       ]
      },
      {
       "output_type": "stream",
       "stream": "stdout",
       "text": [
        "\r",
        "1                     6%[>                     ]  28.11M  3.75MB/s   eta 1m 46s"
       ]
      },
      {
       "output_type": "stream",
       "stream": "stdout",
       "text": [
        "\r",
        "                      7%[>                     ]  28.79M  3.70MB/s   eta 1m 46s"
       ]
      },
      {
       "output_type": "stream",
       "stream": "stdout",
       "text": [
        "\r",
        "                  L   7%[>                     ]  29.68M  3.73MB/s   eta 1m 46s"
       ]
      },
      {
       "output_type": "stream",
       "stream": "stdout",
       "text": [
        "\r",
        "                 La   7%[>                     ]  30.53M  3.77MB/s   eta 1m 44s"
       ]
      },
      {
       "output_type": "stream",
       "stream": "stdout",
       "text": [
        "\r",
        "                Lan   7%[>                     ]  31.42M  3.78MB/s   eta 1m 44s"
       ]
      },
      {
       "output_type": "stream",
       "stream": "stdout",
       "text": [
        "\r",
        "               Land   7%[>                     ]  32.26M  3.76MB/s   eta 1m 44s"
       ]
      },
      {
       "output_type": "stream",
       "stream": "stdout",
       "text": [
        "\r",
        "              Land_   8%[>                     ]  33.16M  3.80MB/s   eta 1m 44s"
       ]
      },
      {
       "output_type": "stream",
       "stream": "stdout",
       "text": [
        "\r",
        "             Land_a   8%[>                     ]  34.02M  3.89MB/s   eta 1m 44s"
       ]
      },
      {
       "output_type": "stream",
       "stream": "stdout",
       "text": [
        "\r",
        "            Land_an   8%[>                     ]  34.99M  3.97MB/s   eta 1m 41s"
       ]
      },
      {
       "output_type": "stream",
       "stream": "stdout",
       "text": [
        "\r",
        "           Land_and   8%[>                     ]  35.86M  4.01MB/s   eta 1m 41s"
       ]
      },
      {
       "output_type": "stream",
       "stream": "stdout",
       "text": [
        "\r",
        "          Land_and_   8%[>                     ]  36.59M  4.02MB/s   eta 1m 41s"
       ]
      },
      {
       "output_type": "stream",
       "stream": "stdout",
       "text": [
        "\r",
        "         Land_and_O   9%[=>                    ]  37.40M  4.05MB/s   eta 1m 41s"
       ]
      },
      {
       "output_type": "stream",
       "stream": "stdout",
       "text": [
        "\r",
        "        Land_and_Oc   9%[=>                    ]  38.17M  4.05MB/s   eta 1m 41s"
       ]
      },
      {
       "output_type": "stream",
       "stream": "stdout",
       "text": [
        "\r",
        "       Land_and_Oce   9%[=>                    ]  39.10M  4.11MB/s   eta 99s   "
       ]
      },
      {
       "output_type": "stream",
       "stream": "stdout",
       "text": [
        "\r",
        "      Land_and_Ocea   9%[=>                    ]  39.97M  4.13MB/s   eta 99s   "
       ]
      },
      {
       "output_type": "stream",
       "stream": "stdout",
       "text": [
        "\r",
        "     Land_and_Ocean   9%[=>                    ]  40.93M  4.16MB/s   eta 99s   "
       ]
      },
      {
       "output_type": "stream",
       "stream": "stdout",
       "text": [
        "\r",
        "    Land_and_Ocean_  10%[=>                    ]  41.78M  4.24MB/s   eta 99s   "
       ]
      },
      {
       "output_type": "stream",
       "stream": "stdout",
       "text": [
        "\r",
        "   Land_and_Ocean_L  10%[=>                    ]  42.68M  4.25MB/s   eta 99s   "
       ]
      },
      {
       "output_type": "stream",
       "stream": "stdout",
       "text": [
        "\r",
        "  Land_and_Ocean_La  10%[=>                    ]  43.52M  4.23MB/s   eta 96s   "
       ]
      },
      {
       "output_type": "stream",
       "stream": "stdout",
       "text": [
        "\r",
        " Land_and_Ocean_Lat  10%[=>                    ]  44.47M  4.25MB/s   eta 96s   "
       ]
      },
      {
       "output_type": "stream",
       "stream": "stdout",
       "text": [
        "\r",
        "Land_and_Ocean_LatL  11%[=>                    ]  45.34M  4.24MB/s   eta 96s   "
       ]
      },
      {
       "output_type": "stream",
       "stream": "stdout",
       "text": [
        "\r",
        "and_and_Ocean_LatLo  11%[=>                    ]  46.14M  4.21MB/s   eta 96s   "
       ]
      },
      {
       "output_type": "stream",
       "stream": "stdout",
       "text": [
        "\r",
        "nd_and_Ocean_LatLon  11%[=>                    ]  46.68M  4.13MB/s   eta 96s   "
       ]
      },
      {
       "output_type": "stream",
       "stream": "stdout",
       "text": [
        "\r",
        "d_and_Ocean_LatLong  11%[=>                    ]  47.32M  4.03MB/s   eta 96s   "
       ]
      },
      {
       "output_type": "stream",
       "stream": "stdout",
       "text": [
        "\r",
        "_and_Ocean_LatLong1  11%[=>                    ]  47.96M  3.95MB/s   eta 96s   "
       ]
      },
      {
       "output_type": "stream",
       "stream": "stdout",
       "text": [
        "\r",
        "and_Ocean_LatLong1.  11%[=>                    ]  48.39M  3.75MB/s   eta 96s   "
       ]
      },
      {
       "output_type": "stream",
       "stream": "stdout",
       "text": [
        "\r",
        "nd_Ocean_LatLong1.n  12%[=>                    ]  49.29M  3.80MB/s   eta 96s   "
       ]
      },
      {
       "output_type": "stream",
       "stream": "stdout",
       "text": [
        "\r",
        "d_Ocean_LatLong1.nc  12%[=>                    ]  49.76M  3.67MB/s   eta 96s   "
       ]
      },
      {
       "output_type": "stream",
       "stream": "stdout",
       "text": [
        "\r",
        "_Ocean_LatLong1.nc.  12%[=>                    ]  50.38M  3.56MB/s   eta 97s   "
       ]
      },
      {
       "output_type": "stream",
       "stream": "stdout",
       "text": [
        "\r",
        "Ocean_LatLong1.nc.1  12%[=>                    ]  51.11M  3.52MB/s   eta 97s   "
       ]
      },
      {
       "output_type": "stream",
       "stream": "stdout",
       "text": [
        "\r",
        "cean_LatLong1.nc.1   12%[=>                    ]  51.78M  3.48MB/s   eta 97s   "
       ]
      },
      {
       "output_type": "stream",
       "stream": "stdout",
       "text": [
        "\r",
        "ean_LatLong1.nc.1    12%[=>                    ]  52.40M  3.41MB/s   eta 97s   "
       ]
      },
      {
       "output_type": "stream",
       "stream": "stdout",
       "text": [
        "\r",
        "an_LatLong1.nc.1     12%[=>                    ]  52.94M  3.28MB/s   eta 97s   "
       ]
      },
      {
       "output_type": "stream",
       "stream": "stdout",
       "text": [
        "\r",
        "n_LatLong1.nc.1      13%[=>                    ]  53.71M  3.26MB/s   eta 97s   "
       ]
      },
      {
       "output_type": "stream",
       "stream": "stdout",
       "text": [
        "\r",
        "_LatLong1.nc.1       13%[=>                    ]  54.46M  3.23MB/s   eta 97s   "
       ]
      },
      {
       "output_type": "stream",
       "stream": "stdout",
       "text": [
        "\r",
        "LatLong1.nc.1        13%[=>                    ]  55.19M  3.16MB/s   eta 97s   "
       ]
      },
      {
       "output_type": "stream",
       "stream": "stdout",
       "text": [
        "\r",
        "atLong1.nc.1         13%[=>                    ]  55.94M  3.14MB/s   eta 97s   "
       ]
      },
      {
       "output_type": "stream",
       "stream": "stdout",
       "text": [
        "\r",
        "tLong1.nc.1          13%[==>                   ]  56.47M  3.13MB/s   eta 97s   "
       ]
      },
      {
       "output_type": "stream",
       "stream": "stdout",
       "text": [
        "\r",
        "Long1.nc.1           13%[==>                   ]  57.21M  3.14MB/s   eta 97s   "
       ]
      },
      {
       "output_type": "stream",
       "stream": "stdout",
       "text": [
        "\r",
        "ong1.nc.1            14%[==>                   ]  58.03M  3.21MB/s   eta 97s   "
       ]
      },
      {
       "output_type": "stream",
       "stream": "stdout",
       "text": [
        "\r",
        "ng1.nc.1             14%[==>                   ]  58.62M  3.13MB/s   eta 97s   "
       ]
      },
      {
       "output_type": "stream",
       "stream": "stdout",
       "text": [
        "\r",
        "g1.nc.1              14%[==>                   ]  59.47M  3.28MB/s   eta 97s   "
       ]
      },
      {
       "output_type": "stream",
       "stream": "stdout",
       "text": [
        "\r",
        "1.nc.1               14%[==>                   ]  60.19M  3.31MB/s   eta 97s   "
       ]
      },
      {
       "output_type": "stream",
       "stream": "stdout",
       "text": [
        "\r",
        ".nc.1                14%[==>                   ]  60.85M  3.36MB/s   eta 96s   "
       ]
      },
      {
       "output_type": "stream",
       "stream": "stdout",
       "text": [
        "\r",
        "nc.1                 14%[==>                   ]  61.56M  3.38MB/s   eta 96s   "
       ]
      },
      {
       "output_type": "stream",
       "stream": "stdout",
       "text": [
        "\r",
        "c.1                  15%[==>                   ]  62.28M  3.41MB/s   eta 96s   "
       ]
      },
      {
       "output_type": "stream",
       "stream": "stdout",
       "text": [
        "\r",
        ".1                   15%[==>                   ]  63.05M  3.43MB/s   eta 96s   "
       ]
      },
      {
       "output_type": "stream",
       "stream": "stdout",
       "text": [
        "\r",
        "1                    15%[==>                   ]  63.89M  3.53MB/s   eta 96s   "
       ]
      },
      {
       "output_type": "stream",
       "stream": "stdout",
       "text": [
        "\r",
        "                     15%[==>                   ]  64.64M  3.50MB/s   eta 95s   "
       ]
      },
      {
       "output_type": "stream",
       "stream": "stdout",
       "text": [
        "\r",
        "                  L  15%[==>                   ]  65.46M  3.49MB/s   eta 95s   "
       ]
      },
      {
       "output_type": "stream",
       "stream": "stdout",
       "text": [
        "\r",
        "                 La  16%[==>                   ]  66.34M  3.54MB/s   eta 95s   "
       ]
      },
      {
       "output_type": "stream",
       "stream": "stdout",
       "text": [
        "\r",
        "                Lan  16%[==>                   ]  67.27M  3.61MB/s   eta 95s   "
       ]
      },
      {
       "output_type": "stream",
       "stream": "stdout",
       "text": [
        "\r",
        "               Land  16%[==>                   ]  68.03M  3.62MB/s   eta 95s   "
       ]
      },
      {
       "output_type": "stream",
       "stream": "stdout",
       "text": [
        "\r",
        "              Land_  16%[==>                   ]  68.86M  3.72MB/s   eta 93s   "
       ]
      },
      {
       "output_type": "stream",
       "stream": "stdout",
       "text": [
        "\r",
        "             Land_a  17%[==>                   ]  69.80M  3.77MB/s   eta 93s   "
       ]
      },
      {
       "output_type": "stream",
       "stream": "stdout",
       "text": [
        "\r",
        "            Land_an  17%[==>                   ]  70.66M  3.83MB/s   eta 93s   "
       ]
      },
      {
       "output_type": "stream",
       "stream": "stdout",
       "text": [
        "\r",
        "           Land_and  17%[==>                   ]  71.39M  3.82MB/s   eta 93s   "
       ]
      },
      {
       "output_type": "stream",
       "stream": "stdout",
       "text": [
        "\r",
        "          Land_and_  17%[==>                   ]  72.30M  3.90MB/s   eta 93s   "
       ]
      },
      {
       "output_type": "stream",
       "stream": "stdout",
       "text": [
        "\r",
        "         Land_and_O  17%[==>                   ]  73.12M  3.95MB/s   eta 91s   "
       ]
      },
      {
       "output_type": "stream",
       "stream": "stdout",
       "text": [
        "\r",
        "        Land_and_Oc  18%[==>                   ]  74.08M  4.03MB/s   eta 91s   "
       ]
      },
      {
       "output_type": "stream",
       "stream": "stdout",
       "text": [
        "\r",
        "       Land_and_Oce  18%[===>                  ]  74.94M  4.09MB/s   eta 91s   "
       ]
      },
      {
       "output_type": "stream",
       "stream": "stdout",
       "text": [
        "\r",
        "      Land_and_Ocea  18%[===>                  ]  75.91M  4.14MB/s   eta 91s   "
       ]
      },
      {
       "output_type": "stream",
       "stream": "stdout",
       "text": [
        "\r",
        "     Land_and_Ocean  18%[===>                  ]  76.78M  4.16MB/s   eta 91s   "
       ]
      },
      {
       "output_type": "stream",
       "stream": "stdout",
       "text": [
        "\r",
        "    Land_and_Ocean_  18%[===>                  ]  77.66M  4.17MB/s   eta 89s   "
       ]
      },
      {
       "output_type": "stream",
       "stream": "stdout",
       "text": [
        "\r",
        "   Land_and_Ocean_L  19%[===>                  ]  78.52M  4.25MB/s   eta 89s   "
       ]
      },
      {
       "output_type": "stream",
       "stream": "stdout",
       "text": [
        "\r",
        "  Land_and_Ocean_La  19%[===>                  ]  79.29M  4.21MB/s   eta 89s   "
       ]
      },
      {
       "output_type": "stream",
       "stream": "stdout",
       "text": [
        "\r",
        " Land_and_Ocean_Lat  19%[===>                  ]  79.95M  4.13MB/s   eta 89s   "
       ]
      },
      {
       "output_type": "stream",
       "stream": "stdout",
       "text": [
        "\r",
        "Land_and_Ocean_LatL  19%[===>                  ]  80.79M  4.14MB/s   eta 89s   "
       ]
      },
      {
       "output_type": "stream",
       "stream": "stdout",
       "text": [
        "\r",
        "and_and_Ocean_LatLo  19%[===>                  ]  81.73M  4.18MB/s   eta 88s   "
       ]
      },
      {
       "output_type": "stream",
       "stream": "stdout",
       "text": [
        "\r",
        "nd_and_Ocean_LatLon  20%[===>                  ]  82.64M  4.21MB/s   eta 88s   "
       ]
      },
      {
       "output_type": "stream",
       "stream": "stdout",
       "text": [
        "\r",
        "d_and_Ocean_LatLong  20%[===>                  ]  83.61M  4.22MB/s   eta 88s   "
       ]
      },
      {
       "output_type": "stream",
       "stream": "stdout",
       "text": [
        "\r",
        "_and_Ocean_LatLong1  20%[===>                  ]  84.56M  4.20MB/s   eta 88s   "
       ]
      },
      {
       "output_type": "stream",
       "stream": "stdout",
       "text": [
        "\r",
        "and_Ocean_LatLong1.  20%[===>                  ]  85.50M  4.31MB/s   eta 88s   "
       ]
      },
      {
       "output_type": "stream",
       "stream": "stdout",
       "text": [
        "\r",
        "nd_Ocean_LatLong1.n  21%[===>                  ]  86.45M  4.32MB/s   eta 86s   "
       ]
      },
      {
       "output_type": "stream",
       "stream": "stdout",
       "text": [
        "\r",
        "d_Ocean_LatLong1.nc  21%[===>                  ]  87.42M  4.36MB/s   eta 86s   "
       ]
      },
      {
       "output_type": "stream",
       "stream": "stdout",
       "text": [
        "\r",
        "_Ocean_LatLong1.nc.  21%[===>                  ]  88.32M  4.36MB/s   eta 86s   "
       ]
      },
      {
       "output_type": "stream",
       "stream": "stdout",
       "text": [
        "\r",
        "Ocean_LatLong1.nc.1  21%[===>                  ]  89.19M  4.34MB/s   eta 86s   "
       ]
      },
      {
       "output_type": "stream",
       "stream": "stdout",
       "text": [
        "\r",
        "cean_LatLong1.nc.1   21%[===>                  ]  89.92M  4.29MB/s   eta 86s   "
       ]
      },
      {
       "output_type": "stream",
       "stream": "stdout",
       "text": [
        "\r",
        "ean_LatLong1.nc.1    22%[===>                  ]  90.99M  4.35MB/s   eta 84s   "
       ]
      },
      {
       "output_type": "stream",
       "stream": "stdout",
       "text": [
        "\r",
        "an_LatLong1.nc.1     22%[===>                  ]  92.08M  4.42MB/s   eta 84s   "
       ]
      },
      {
       "output_type": "stream",
       "stream": "stdout",
       "text": [
        "\r",
        "n_LatLong1.nc.1      22%[===>                  ]  93.12M  4.51MB/s   eta 84s   "
       ]
      },
      {
       "output_type": "stream",
       "stream": "stdout",
       "text": [
        "\r",
        "_LatLong1.nc.1       22%[====>                 ]  94.21M  4.66MB/s   eta 84s   "
       ]
      },
      {
       "output_type": "stream",
       "stream": "stdout",
       "text": [
        "\r",
        "LatLong1.nc.1        23%[====>                 ]  95.30M  4.74MB/s   eta 84s   "
       ]
      },
      {
       "output_type": "stream",
       "stream": "stdout",
       "text": [
        "\r",
        "atLong1.nc.1         23%[====>                 ]  96.45M  4.82MB/s   eta 81s   "
       ]
      },
      {
       "output_type": "stream",
       "stream": "stdout",
       "text": [
        "\r",
        "tLong1.nc.1          23%[====>                 ]  97.50M  4.89MB/s   eta 81s   "
       ]
      },
      {
       "output_type": "stream",
       "stream": "stdout",
       "text": [
        "\r",
        "Long1.nc.1           24%[====>                 ]  98.73M  4.98MB/s   eta 81s   "
       ]
      },
      {
       "output_type": "stream",
       "stream": "stdout",
       "text": [
        "\r",
        "ong1.nc.1            24%[====>                 ]  99.99M  5.07MB/s   eta 81s   "
       ]
      },
      {
       "output_type": "stream",
       "stream": "stdout",
       "text": [
        "\r",
        "ng1.nc.1             24%[====>                 ] 101.07M  5.13MB/s   eta 81s   "
       ]
      },
      {
       "output_type": "stream",
       "stream": "stdout",
       "text": [
        "\r",
        "g1.nc.1              24%[====>                 ] 102.26M  5.22MB/s   eta 78s   "
       ]
      },
      {
       "output_type": "stream",
       "stream": "stdout",
       "text": [
        "\r",
        "1.nc.1               25%[====>                 ] 103.66M  5.36MB/s   eta 78s   "
       ]
      },
      {
       "output_type": "stream",
       "stream": "stdout",
       "text": [
        "\r",
        ".nc.1                25%[====>                 ] 105.02M  5.52MB/s   eta 78s   "
       ]
      },
      {
       "output_type": "stream",
       "stream": "stdout",
       "text": [
        "\r",
        "nc.1                 25%[====>                 ] 106.32M  5.63MB/s   eta 78s   "
       ]
      },
      {
       "output_type": "stream",
       "stream": "stdout",
       "text": [
        "\r",
        "c.1                  26%[====>                 ] 107.51M  5.71MB/s   eta 78s   "
       ]
      },
      {
       "output_type": "stream",
       "stream": "stdout",
       "text": [
        "\r",
        ".1                   26%[====>                 ] 108.74M  5.81MB/s   eta 75s   "
       ]
      },
      {
       "output_type": "stream",
       "stream": "stdout",
       "text": [
        "\r",
        "1                    26%[====>                 ] 110.26M  5.97MB/s   eta 75s   "
       ]
      },
      {
       "output_type": "stream",
       "stream": "stdout",
       "text": [
        "\r",
        "                     27%[====>                 ] 111.84M  6.12MB/s   eta 75s   "
       ]
      },
      {
       "output_type": "stream",
       "stream": "stdout",
       "text": [
        "\r",
        "                  L  27%[=====>                ] 113.51M  6.34MB/s   eta 75s   "
       ]
      },
      {
       "output_type": "stream",
       "stream": "stdout",
       "text": [
        "\r",
        "                 La  28%[=====>                ] 115.16M  6.48MB/s   eta 75s   "
       ]
      },
      {
       "output_type": "stream",
       "stream": "stdout",
       "text": [
        "\r",
        "                Lan  28%[=====>                ] 116.84M  6.63MB/s   eta 70s   "
       ]
      },
      {
       "output_type": "stream",
       "stream": "stdout",
       "text": [
        "\r",
        "               Land  28%[=====>                ] 118.55M  6.83MB/s   eta 70s   "
       ]
      },
      {
       "output_type": "stream",
       "stream": "stdout",
       "text": [
        "\r",
        "              Land_  29%[=====>                ] 120.41M  7.07MB/s   eta 70s   "
       ]
      },
      {
       "output_type": "stream",
       "stream": "stdout",
       "text": [
        "\r",
        "             Land_a  29%[=====>                ] 122.34M  7.24MB/s   eta 70s   "
       ]
      },
      {
       "output_type": "stream",
       "stream": "stdout",
       "text": [
        "\r",
        "            Land_an  30%[=====>                ] 124.22M  7.52MB/s   eta 70s   "
       ]
      },
      {
       "output_type": "stream",
       "stream": "stdout",
       "text": [
        "\r",
        "           Land_and  30%[=====>                ] 126.01M  7.67MB/s   eta 65s   "
       ]
      },
      {
       "output_type": "stream",
       "stream": "stdout",
       "text": [
        "\r",
        "          Land_and_  31%[=====>                ] 128.22M  7.96MB/s   eta 65s   "
       ]
      },
      {
       "output_type": "stream",
       "stream": "stdout",
       "text": [
        "\r",
        "         Land_and_O  31%[=====>                ] 130.30M  8.19MB/s   eta 65s   "
       ]
      },
      {
       "output_type": "stream",
       "stream": "stdout",
       "text": [
        "\r",
        "        Land_and_Oc  32%[======>               ] 132.31M  8.26MB/s   eta 65s   "
       ]
      },
      {
       "output_type": "stream",
       "stream": "stdout",
       "text": [
        "\r",
        "       Land_and_Oce  32%[======>               ] 134.25M  8.49MB/s   eta 65s   "
       ]
      },
      {
       "output_type": "stream",
       "stream": "stdout",
       "text": [
        "\r",
        "      Land_and_Ocea  33%[======>               ] 135.76M  8.57MB/s   eta 61s   "
       ]
      },
      {
       "output_type": "stream",
       "stream": "stdout",
       "text": [
        "\r",
        "     Land_and_Ocean  33%[======>               ] 137.31M  8.61MB/s   eta 61s   "
       ]
      },
      {
       "output_type": "stream",
       "stream": "stdout",
       "text": [
        "\r",
        "    Land_and_Ocean_  33%[======>               ] 138.80M  8.61MB/s   eta 61s   "
       ]
      },
      {
       "output_type": "stream",
       "stream": "stdout",
       "text": [
        "\r",
        "   Land_and_Ocean_L  34%[======>               ] 140.41M  8.57MB/s   eta 61s   "
       ]
      },
      {
       "output_type": "stream",
       "stream": "stdout",
       "text": [
        "\r",
        "  Land_and_Ocean_La  34%[======>               ] 142.19M  8.62MB/s   eta 61s   "
       ]
      },
      {
       "output_type": "stream",
       "stream": "stdout",
       "text": [
        "\r",
        " Land_and_Ocean_Lat  35%[======>               ] 143.77M  8.60MB/s   eta 58s   "
       ]
      },
      {
       "output_type": "stream",
       "stream": "stdout",
       "text": [
        "\r",
        "Land_and_Ocean_LatL  35%[======>               ] 145.51M  8.63MB/s   eta 58s   "
       ]
      },
      {
       "output_type": "stream",
       "stream": "stdout",
       "text": [
        "\r",
        "and_and_Ocean_LatLo  35%[======>               ] 147.29M  8.61MB/s   eta 58s   "
       ]
      },
      {
       "output_type": "stream",
       "stream": "stdout",
       "text": [
        "\r",
        "nd_and_Ocean_LatLon  36%[======>               ] 149.05M  8.56MB/s   eta 58s   "
       ]
      },
      {
       "output_type": "stream",
       "stream": "stdout",
       "text": [
        "\r",
        "d_and_Ocean_LatLong  36%[=======>              ] 150.99M  8.61MB/s   eta 58s   "
       ]
      },
      {
       "output_type": "stream",
       "stream": "stdout",
       "text": [
        "\r",
        "_and_Ocean_LatLong1  37%[=======>              ] 152.91M  8.66MB/s   eta 54s   "
       ]
      },
      {
       "output_type": "stream",
       "stream": "stdout",
       "text": [
        "\r",
        "and_Ocean_LatLong1.  37%[=======>              ] 154.65M  8.47MB/s   eta 54s   "
       ]
      },
      {
       "output_type": "stream",
       "stream": "stdout",
       "text": [
        "\r",
        "nd_Ocean_LatLong1.n  38%[=======>              ] 156.50M  8.43MB/s   eta 54s   "
       ]
      },
      {
       "output_type": "stream",
       "stream": "stdout",
       "text": [
        "\r",
        "d_Ocean_LatLong1.nc  38%[=======>              ] 157.83M  8.29MB/s   eta 54s   "
       ]
      },
      {
       "output_type": "stream",
       "stream": "stdout",
       "text": [
        "\r",
        "_Ocean_LatLong1.nc.  38%[=======>              ] 159.68M  8.23MB/s   eta 54s   "
       ]
      },
      {
       "output_type": "stream",
       "stream": "stdout",
       "text": [
        "\r",
        "Ocean_LatLong1.nc.1  39%[=======>              ] 161.26M  8.26MB/s   eta 51s   "
       ]
      },
      {
       "output_type": "stream",
       "stream": "stdout",
       "text": [
        "\r",
        "cean_LatLong1.nc.1   39%[=======>              ] 162.70M  8.22MB/s   eta 51s   "
       ]
      },
      {
       "output_type": "stream",
       "stream": "stdout",
       "text": [
        "\r",
        "ean_LatLong1.nc.1    39%[=======>              ] 164.12M  8.19MB/s   eta 51s   "
       ]
      },
      {
       "output_type": "stream",
       "stream": "stdout",
       "text": [
        "\r",
        "an_LatLong1.nc.1     40%[=======>              ] 165.60M  8.15MB/s   eta 51s   "
       ]
      },
      {
       "output_type": "stream",
       "stream": "stdout",
       "text": [
        "\r",
        "n_LatLong1.nc.1      40%[=======>              ] 167.08M  8.10MB/s   eta 51s   "
       ]
      },
      {
       "output_type": "stream",
       "stream": "stdout",
       "text": [
        "\r",
        "_LatLong1.nc.1       41%[========>             ] 168.68M  8.07MB/s   eta 49s   "
       ]
      },
      {
       "output_type": "stream",
       "stream": "stdout",
       "text": [
        "\r",
        "LatLong1.nc.1        41%[========>             ] 170.30M  8.05MB/s   eta 49s   "
       ]
      },
      {
       "output_type": "stream",
       "stream": "stdout",
       "text": [
        "\r",
        "atLong1.nc.1         41%[========>             ] 171.83M  8.03MB/s   eta 49s   "
       ]
      },
      {
       "output_type": "stream",
       "stream": "stdout",
       "text": [
        "\r",
        "tLong1.nc.1          42%[========>             ] 173.38M  7.94MB/s   eta 49s   "
       ]
      },
      {
       "output_type": "stream",
       "stream": "stdout",
       "text": [
        "\r",
        "Long1.nc.1           42%[========>             ] 174.93M  7.83MB/s   eta 49s   "
       ]
      },
      {
       "output_type": "stream",
       "stream": "stdout",
       "text": [
        "\r",
        "ong1.nc.1            42%[========>             ] 176.47M  7.74MB/s   eta 47s   "
       ]
      },
      {
       "output_type": "stream",
       "stream": "stdout",
       "text": [
        "\r",
        "ng1.nc.1             43%[========>             ] 178.00M  7.58MB/s   eta 47s   "
       ]
      },
      {
       "output_type": "stream",
       "stream": "stdout",
       "text": [
        "\r",
        "g1.nc.1              43%[========>             ] 179.67M  7.60MB/s   eta 47s   "
       ]
      },
      {
       "output_type": "stream",
       "stream": "stdout",
       "text": [
        "\r",
        "1.nc.1               44%[========>             ] 181.40M  7.56MB/s   eta 47s   "
       ]
      },
      {
       "output_type": "stream",
       "stream": "stdout",
       "text": [
        "\r",
        ".nc.1                44%[========>             ] 183.06M  7.72MB/s   eta 47s   "
       ]
      },
      {
       "output_type": "stream",
       "stream": "stdout",
       "text": [
        "\r",
        "nc.1                 44%[========>             ] 184.69M  7.76MB/s   eta 44s   "
       ]
      },
      {
       "output_type": "stream",
       "stream": "stdout",
       "text": [
        "\r",
        "c.1                  45%[========>             ] 186.35M  7.87MB/s   eta 44s   "
       ]
      },
      {
       "output_type": "stream",
       "stream": "stdout",
       "text": [
        "\r",
        ".1                   45%[=========>            ] 187.73M  7.86MB/s   eta 44s   "
       ]
      },
      {
       "output_type": "stream",
       "stream": "stdout",
       "text": [
        "\r",
        "1                    46%[=========>            ] 189.23M  7.82MB/s   eta 44s   "
       ]
      },
      {
       "output_type": "stream",
       "stream": "stdout",
       "text": [
        "\r",
        "                     46%[=========>            ] 190.77M  7.84MB/s   eta 44s   "
       ]
      },
      {
       "output_type": "stream",
       "stream": "stdout",
       "text": [
        "\r",
        "                  L  46%[=========>            ] 192.40M  7.87MB/s   eta 42s   "
       ]
      },
      {
       "output_type": "stream",
       "stream": "stdout",
       "text": [
        "\r",
        "                 La  47%[=========>            ] 193.65M  7.70MB/s   eta 42s   "
       ]
      },
      {
       "output_type": "stream",
       "stream": "stdout",
       "text": [
        "\r",
        "                Lan  47%[=========>            ] 195.35M  7.72MB/s   eta 42s   "
       ]
      },
      {
       "output_type": "stream",
       "stream": "stdout",
       "text": [
        "\r",
        "               Land  47%[=========>            ] 196.93M  7.72MB/s   eta 42s   "
       ]
      },
      {
       "output_type": "stream",
       "stream": "stdout",
       "text": [
        "\r",
        "              Land_  48%[=========>            ] 198.70M  7.77MB/s   eta 42s   "
       ]
      },
      {
       "output_type": "stream",
       "stream": "stdout",
       "text": [
        "\r",
        "             Land_a  48%[=========>            ] 199.79M  7.64MB/s   eta 40s   "
       ]
      },
      {
       "output_type": "stream",
       "stream": "stdout",
       "text": [
        "\r",
        "            Land_an  48%[=========>            ] 201.11M  7.59MB/s   eta 40s   "
       ]
      },
      {
       "output_type": "stream",
       "stream": "stdout",
       "text": [
        "\r",
        "           Land_and  49%[=========>            ] 202.36M  7.51MB/s   eta 40s   "
       ]
      },
      {
       "output_type": "stream",
       "stream": "stdout",
       "text": [
        "\r",
        "          Land_and_  49%[=========>            ] 203.58M  7.35MB/s   eta 40s   "
       ]
      },
      {
       "output_type": "stream",
       "stream": "stdout",
       "text": [
        "\r",
        "         Land_and_O  49%[=========>            ] 204.90M  7.16MB/s   eta 40s   "
       ]
      },
      {
       "output_type": "stream",
       "stream": "stdout",
       "text": [
        "\r",
        "        Land_and_Oc  50%[==========>           ] 206.27M  7.13MB/s   eta 39s   "
       ]
      },
      {
       "output_type": "stream",
       "stream": "stdout",
       "text": [
        "\r",
        "       Land_and_Oce  50%[==========>           ] 207.67M  7.02MB/s   eta 39s   "
       ]
      },
      {
       "output_type": "stream",
       "stream": "stdout",
       "text": [
        "\r",
        "      Land_and_Ocea  50%[==========>           ] 209.02M  6.98MB/s   eta 39s   "
       ]
      },
      {
       "output_type": "stream",
       "stream": "stdout",
       "text": [
        "\r",
        "     Land_and_Ocean  51%[==========>           ] 210.50M  7.00MB/s   eta 39s   "
       ]
      },
      {
       "output_type": "stream",
       "stream": "stdout",
       "text": [
        "\r",
        "    Land_and_Ocean_  51%[==========>           ] 212.02M  6.92MB/s   eta 39s   "
       ]
      },
      {
       "output_type": "stream",
       "stream": "stdout",
       "text": [
        "\r",
        "   Land_and_Ocean_L  52%[==========>           ] 213.44M  6.85MB/s   eta 37s   "
       ]
      },
      {
       "output_type": "stream",
       "stream": "stdout",
       "text": [
        "\r",
        "  Land_and_Ocean_La  52%[==========>           ] 214.91M  6.92MB/s   eta 37s   "
       ]
      },
      {
       "output_type": "stream",
       "stream": "stdout",
       "text": [
        "\r",
        " Land_and_Ocean_Lat  52%[==========>           ] 216.51M  6.96MB/s   eta 37s   "
       ]
      },
      {
       "output_type": "stream",
       "stream": "stdout",
       "text": [
        "\r",
        "Land_and_Ocean_LatL  53%[==========>           ] 218.05M  6.86MB/s   eta 37s   "
       ]
      },
      {
       "output_type": "stream",
       "stream": "stdout",
       "text": [
        "\r",
        "and_and_Ocean_LatLo  53%[==========>           ] 219.49M  6.83MB/s   eta 37s   "
       ]
      },
      {
       "output_type": "stream",
       "stream": "stdout",
       "text": [
        "\r",
        "nd_and_Ocean_LatLon  53%[==========>           ] 221.09M  6.82MB/s   eta 35s   "
       ]
      },
      {
       "output_type": "stream",
       "stream": "stdout",
       "text": [
        "\r",
        "d_and_Ocean_LatLong  54%[==========>           ] 222.71M  7.04MB/s   eta 35s   "
       ]
      },
      {
       "output_type": "stream",
       "stream": "stdout",
       "text": [
        "\r",
        "_and_Ocean_LatLong1  54%[===========>          ] 224.34M  7.13MB/s   eta 35s   "
       ]
      },
      {
       "output_type": "stream",
       "stream": "stdout",
       "text": [
        "\r",
        "and_Ocean_LatLong1.  55%[===========>          ] 225.95M  7.24MB/s   eta 35s   "
       ]
      },
      {
       "output_type": "stream",
       "stream": "stdout",
       "text": [
        "\r",
        "nd_Ocean_LatLong1.n  55%[===========>          ] 227.58M  7.37MB/s   eta 35s   "
       ]
      },
      {
       "output_type": "stream",
       "stream": "stdout",
       "text": [
        "\r",
        "d_Ocean_LatLong1.nc  55%[===========>          ] 229.37M  7.52MB/s   eta 33s   "
       ]
      },
      {
       "output_type": "stream",
       "stream": "stdout",
       "text": [
        "\r",
        "_Ocean_LatLong1.nc.  56%[===========>          ] 231.12M  7.62MB/s   eta 33s   "
       ]
      },
      {
       "output_type": "stream",
       "stream": "stdout",
       "text": [
        "\r",
        "Ocean_LatLong1.nc.1  56%[===========>          ] 232.73M  7.72MB/s   eta 33s   "
       ]
      },
      {
       "output_type": "stream",
       "stream": "stdout",
       "text": [
        "\r",
        "cean_LatLong1.nc.1   57%[===========>          ] 234.46M  7.85MB/s   eta 33s   "
       ]
      },
      {
       "output_type": "stream",
       "stream": "stdout",
       "text": [
        "\r",
        "ean_LatLong1.nc.1    57%[===========>          ] 236.16M  7.88MB/s   eta 33s   "
       ]
      },
      {
       "output_type": "stream",
       "stream": "stdout",
       "text": [
        "\r",
        "an_LatLong1.nc.1     57%[===========>          ] 237.68M  7.94MB/s   eta 31s   "
       ]
      },
      {
       "output_type": "stream",
       "stream": "stdout",
       "text": [
        "\r",
        "n_LatLong1.nc.1      58%[===========>          ] 239.27M  7.94MB/s   eta 31s   "
       ]
      },
      {
       "output_type": "stream",
       "stream": "stdout",
       "text": [
        "\r",
        "_LatLong1.nc.1       58%[===========>          ] 240.66M  7.90MB/s   eta 31s   "
       ]
      },
      {
       "output_type": "stream",
       "stream": "stdout",
       "text": [
        "\r",
        "LatLong1.nc.1        59%[===========>          ] 242.36M  7.97MB/s   eta 31s   "
       ]
      },
      {
       "output_type": "stream",
       "stream": "stdout",
       "text": [
        "\r",
        "atLong1.nc.1         59%[============>         ] 244.05M  8.09MB/s   eta 31s   "
       ]
      },
      {
       "output_type": "stream",
       "stream": "stdout",
       "text": [
        "\r",
        "tLong1.nc.1          59%[============>         ] 245.64M  8.03MB/s   eta 30s   "
       ]
      },
      {
       "output_type": "stream",
       "stream": "stdout",
       "text": [
        "\r",
        "Long1.nc.1           60%[============>         ] 247.27M  8.08MB/s   eta 30s   "
       ]
      },
      {
       "output_type": "stream",
       "stream": "stdout",
       "text": [
        "\r",
        "ong1.nc.1            60%[============>         ] 248.87M  8.07MB/s   eta 30s   "
       ]
      },
      {
       "output_type": "stream",
       "stream": "stdout",
       "text": [
        "\r",
        "ng1.nc.1             60%[============>         ] 250.35M  8.03MB/s   eta 30s   "
       ]
      },
      {
       "output_type": "stream",
       "stream": "stdout",
       "text": [
        "\r",
        "g1.nc.1              61%[============>         ] 251.86M  7.99MB/s   eta 30s   "
       ]
      },
      {
       "output_type": "stream",
       "stream": "stdout",
       "text": [
        "\r",
        "1.nc.1               61%[============>         ] 253.48M  7.97MB/s   eta 28s   "
       ]
      },
      {
       "output_type": "stream",
       "stream": "stdout",
       "text": [
        "\r",
        ".nc.1                62%[============>         ] 255.18M  7.98MB/s   eta 28s   "
       ]
      },
      {
       "output_type": "stream",
       "stream": "stdout",
       "text": [
        "\r",
        "nc.1                 62%[============>         ] 256.73M  7.93MB/s   eta 28s   "
       ]
      },
      {
       "output_type": "stream",
       "stream": "stdout",
       "text": [
        "\r",
        "c.1                  62%[============>         ] 258.39M  7.95MB/s   eta 28s   "
       ]
      },
      {
       "output_type": "stream",
       "stream": "stdout",
       "text": [
        "\r",
        ".1                   63%[============>         ] 259.85M  7.91MB/s   eta 28s   "
       ]
      },
      {
       "output_type": "stream",
       "stream": "stdout",
       "text": [
        "\r",
        "1                    63%[=============>        ] 261.20M  7.76MB/s   eta 26s   "
       ]
      },
      {
       "output_type": "stream",
       "stream": "stdout",
       "text": [
        "\r",
        "                     64%[=============>        ] 262.86M  7.86MB/s   eta 26s   "
       ]
      },
      {
       "output_type": "stream",
       "stream": "stdout",
       "text": [
        "\r",
        "                  L  64%[=============>        ] 264.42M  7.88MB/s   eta 26s   "
       ]
      },
      {
       "output_type": "stream",
       "stream": "stdout",
       "text": [
        "\r",
        "                 La  64%[=============>        ] 266.15M  7.90MB/s   eta 26s   "
       ]
      },
      {
       "output_type": "stream",
       "stream": "stdout",
       "text": [
        "\r",
        "                Lan  65%[=============>        ] 267.73M  7.82MB/s   eta 26s   "
       ]
      },
      {
       "output_type": "stream",
       "stream": "stdout",
       "text": [
        "\r",
        "               Land  65%[=============>        ] 269.23M  7.79MB/s   eta 25s   "
       ]
      },
      {
       "output_type": "stream",
       "stream": "stdout",
       "text": [
        "\r",
        "              Land_  66%[=============>        ] 270.93M  7.79MB/s   eta 25s   "
       ]
      },
      {
       "output_type": "stream",
       "stream": "stdout",
       "text": [
        "\r",
        "             Land_a  66%[=============>        ] 272.61M  7.87MB/s   eta 25s   "
       ]
      },
      {
       "output_type": "stream",
       "stream": "stdout",
       "text": [
        "\r",
        "            Land_an  66%[=============>        ] 274.06M  7.87MB/s   eta 25s   "
       ]
      },
      {
       "output_type": "stream",
       "stream": "stdout",
       "text": [
        "\r",
        "           Land_and  67%[=============>        ] 275.41M  7.75MB/s   eta 25s   "
       ]
      },
      {
       "output_type": "stream",
       "stream": "stdout",
       "text": [
        "\r",
        "          Land_and_  67%[=============>        ] 277.03M  7.78MB/s   eta 23s   "
       ]
      },
      {
       "output_type": "stream",
       "stream": "stdout",
       "text": [
        "\r",
        "         Land_and_O  67%[=============>        ] 278.73M  7.79MB/s   eta 23s   "
       ]
      },
      {
       "output_type": "stream",
       "stream": "stdout",
       "text": [
        "\r",
        "        Land_and_Oc  68%[==============>       ] 280.41M  7.82MB/s   eta 23s   "
       ]
      },
      {
       "output_type": "stream",
       "stream": "stdout",
       "text": [
        "\r",
        "       Land_and_Oce  68%[==============>       ] 282.12M  7.86MB/s   eta 23s   "
       ]
      },
      {
       "output_type": "stream",
       "stream": "stdout",
       "text": [
        "\r",
        "      Land_and_Ocea  69%[==============>       ] 283.61M  7.86MB/s   eta 23s   "
       ]
      },
      {
       "output_type": "stream",
       "stream": "stdout",
       "text": [
        "\r",
        "     Land_and_Ocean  69%[==============>       ] 285.35M  7.90MB/s   eta 22s   "
       ]
      },
      {
       "output_type": "stream",
       "stream": "stdout",
       "text": [
        "\r",
        "    Land_and_Ocean_  69%[==============>       ] 287.12M  8.01MB/s   eta 22s   "
       ]
      },
      {
       "output_type": "stream",
       "stream": "stdout",
       "text": [
        "\r",
        "   Land_and_Ocean_L  70%[==============>       ] 288.94M  8.04MB/s   eta 22s   "
       ]
      },
      {
       "output_type": "stream",
       "stream": "stdout",
       "text": [
        "\r",
        "  Land_and_Ocean_La  70%[==============>       ] 290.58M  8.07MB/s   eta 22s   "
       ]
      },
      {
       "output_type": "stream",
       "stream": "stdout",
       "text": [
        "\r",
        " Land_and_Ocean_Lat  71%[==============>       ] 292.17M  8.06MB/s   eta 22s   "
       ]
      },
      {
       "output_type": "stream",
       "stream": "stdout",
       "text": [
        "\r",
        "Land_and_Ocean_LatL  71%[==============>       ] 293.92M  8.09MB/s   eta 20s   "
       ]
      },
      {
       "output_type": "stream",
       "stream": "stdout",
       "text": [
        "\r",
        "and_and_Ocean_LatLo  72%[==============>       ] 295.80M  8.19MB/s   eta 20s   "
       ]
      },
      {
       "output_type": "stream",
       "stream": "stdout",
       "text": [
        "\r",
        "nd_and_Ocean_LatLon  72%[==============>       ] 297.58M  8.22MB/s   eta 20s   "
       ]
      },
      {
       "output_type": "stream",
       "stream": "stdout",
       "text": [
        "\r",
        "d_and_Ocean_LatLong  72%[===============>      ] 299.41M  8.30MB/s   eta 20s   "
       ]
      },
      {
       "output_type": "stream",
       "stream": "stdout",
       "text": [
        "\r",
        "_and_Ocean_LatLong1  73%[===============>      ] 301.24M  8.47MB/s   eta 20s   "
       ]
      },
      {
       "output_type": "stream",
       "stream": "stdout",
       "text": [
        "\r",
        "and_Ocean_LatLong1.  73%[===============>      ] 303.04M  8.51MB/s   eta 18s   "
       ]
      },
      {
       "output_type": "stream",
       "stream": "stdout",
       "text": [
        "\r",
        "nd_Ocean_LatLong1.n  74%[===============>      ] 304.91M  8.58MB/s   eta 18s   "
       ]
      },
      {
       "output_type": "stream",
       "stream": "stdout",
       "text": [
        "\r",
        "d_Ocean_LatLong1.nc  74%[===============>      ] 305.56M  7.94MB/s   eta 18s   "
       ]
      },
      {
       "output_type": "stream",
       "stream": "stdout",
       "text": [
        "\r",
        "_Ocean_LatLong1.nc.  74%[===============>      ] 307.12M  7.90MB/s   eta 18s   "
       ]
      },
      {
       "output_type": "stream",
       "stream": "stdout",
       "text": [
        "\r",
        "Ocean_LatLong1.nc.1  75%[===============>      ] 308.04M  7.72MB/s   eta 18s   "
       ]
      },
      {
       "output_type": "stream",
       "stream": "stdout",
       "text": [
        "\r",
        "cean_LatLong1.nc.1   75%[===============>      ] 309.10M  7.40MB/s   eta 17s   "
       ]
      },
      {
       "output_type": "stream",
       "stream": "stdout",
       "text": [
        "\r",
        "ean_LatLong1.nc.1    75%[===============>      ] 310.11M  7.22MB/s   eta 17s   "
       ]
      },
      {
       "output_type": "stream",
       "stream": "stdout",
       "text": [
        "\r",
        "an_LatLong1.nc.1     75%[===============>      ] 311.05M  6.93MB/s   eta 17s   "
       ]
      },
      {
       "output_type": "stream",
       "stream": "stdout",
       "text": [
        "\r",
        "n_LatLong1.nc.1      76%[===============>      ] 312.20M  6.75MB/s   eta 17s   "
       ]
      },
      {
       "output_type": "stream",
       "stream": "stdout",
       "text": [
        "\r",
        "_LatLong1.nc.1       76%[===============>      ] 313.42M  6.67MB/s   eta 17s   "
       ]
      },
      {
       "output_type": "stream",
       "stream": "stdout",
       "text": [
        "\r",
        "LatLong1.nc.1        76%[===============>      ] 314.62M  6.51MB/s   eta 16s   "
       ]
      },
      {
       "output_type": "stream",
       "stream": "stdout",
       "text": [
        "\r",
        "atLong1.nc.1         76%[===============>      ] 315.81M  6.24MB/s   eta 16s   "
       ]
      },
      {
       "output_type": "stream",
       "stream": "stdout",
       "text": [
        "\r",
        "tLong1.nc.1          77%[===============>      ] 317.05M  6.10MB/s   eta 16s   "
       ]
      },
      {
       "output_type": "stream",
       "stream": "stdout",
       "text": [
        "\r",
        "Long1.nc.1           77%[================>     ] 318.17M  5.95MB/s   eta 16s   "
       ]
      },
      {
       "output_type": "stream",
       "stream": "stdout",
       "text": [
        "\r",
        "ong1.nc.1            77%[================>     ] 319.25M  5.63MB/s   eta 16s   "
       ]
      },
      {
       "output_type": "stream",
       "stream": "stdout",
       "text": [
        "\r",
        "ng1.nc.1             78%[================>     ] 320.55M  5.57MB/s   eta 15s   "
       ]
      },
      {
       "output_type": "stream",
       "stream": "stdout",
       "text": [
        "\r",
        "g1.nc.1              78%[================>     ] 321.75M  5.53MB/s   eta 15s   "
       ]
      },
      {
       "output_type": "stream",
       "stream": "stdout",
       "text": [
        "\r",
        "1.nc.1               78%[================>     ] 322.96M  5.64MB/s   eta 15s   "
       ]
      },
      {
       "output_type": "stream",
       "stream": "stdout",
       "text": [
        "\r",
        ".nc.1                78%[================>     ] 323.97M  5.45MB/s   eta 15s   "
       ]
      },
      {
       "output_type": "stream",
       "stream": "stdout",
       "text": [
        "\r",
        "nc.1                 79%[================>     ] 325.03M  5.49MB/s   eta 15s   "
       ]
      },
      {
       "output_type": "stream",
       "stream": "stdout",
       "text": [
        "\r",
        "c.1                  79%[================>     ] 326.15M  5.55MB/s   eta 14s   "
       ]
      },
      {
       "output_type": "stream",
       "stream": "stdout",
       "text": [
        "\r",
        ".1                   79%[================>     ] 327.37M  5.59MB/s   eta 14s   "
       ]
      },
      {
       "output_type": "stream",
       "stream": "stdout",
       "text": [
        "\r",
        "1                    80%[================>     ] 328.44M  5.64MB/s   eta 14s   "
       ]
      },
      {
       "output_type": "stream",
       "stream": "stdout",
       "text": [
        "\r",
        "                     80%[================>     ] 329.69M  5.71MB/s   eta 14s   "
       ]
      },
      {
       "output_type": "stream",
       "stream": "stdout",
       "text": [
        "\r",
        "                  L  80%[================>     ] 330.96M  5.73MB/s   eta 14s   "
       ]
      },
      {
       "output_type": "stream",
       "stream": "stdout",
       "text": [
        "\r",
        "                 La  80%[================>     ] 332.21M  5.79MB/s   eta 13s   "
       ]
      },
      {
       "output_type": "stream",
       "stream": "stdout",
       "text": [
        "\r",
        "                Lan  81%[================>     ] 333.41M  5.78MB/s   eta 13s   "
       ]
      },
      {
       "output_type": "stream",
       "stream": "stdout",
       "text": [
        "\r",
        "               Land  81%[================>     ] 334.61M  5.77MB/s   eta 13s   "
       ]
      },
      {
       "output_type": "stream",
       "stream": "stdout",
       "text": [
        "\r",
        "              Land_  81%[=================>    ] 335.86M  5.76MB/s   eta 13s   "
       ]
      },
      {
       "output_type": "stream",
       "stream": "stdout",
       "text": [
        "\r",
        "             Land_a  82%[=================>    ] 336.97M  5.79MB/s   eta 13s   "
       ]
      },
      {
       "output_type": "stream",
       "stream": "stdout",
       "text": [
        "\r",
        "            Land_an  82%[=================>    ] 338.14M  5.75MB/s   eta 12s   "
       ]
      },
      {
       "output_type": "stream",
       "stream": "stdout",
       "text": [
        "\r",
        "           Land_and  82%[=================>    ] 339.42M  5.75MB/s   eta 12s   "
       ]
      },
      {
       "output_type": "stream",
       "stream": "stdout",
       "text": [
        "\r",
        "          Land_and_  82%[=================>    ] 340.62M  5.76MB/s   eta 12s   "
       ]
      },
      {
       "output_type": "stream",
       "stream": "stdout",
       "text": [
        "\r",
        "         Land_and_O  83%[=================>    ] 341.83M  5.80MB/s   eta 12s   "
       ]
      },
      {
       "output_type": "stream",
       "stream": "stdout",
       "text": [
        "\r",
        "        Land_and_Oc  83%[=================>    ] 343.15M  5.89MB/s   eta 12s   "
       ]
      },
      {
       "output_type": "stream",
       "stream": "stdout",
       "text": [
        "\r",
        "       Land_and_Oce  83%[=================>    ] 344.29M  5.94MB/s   eta 11s   "
       ]
      },
      {
       "output_type": "stream",
       "stream": "stdout",
       "text": [
        "\r",
        "      Land_and_Ocea  84%[=================>    ] 345.65M  5.99MB/s   eta 11s   "
       ]
      },
      {
       "output_type": "stream",
       "stream": "stdout",
       "text": [
        "\r",
        "     Land_and_Ocean  84%[=================>    ] 346.91M  6.00MB/s   eta 11s   "
       ]
      },
      {
       "output_type": "stream",
       "stream": "stdout",
       "text": [
        "\r",
        "    Land_and_Ocean_  84%[=================>    ] 348.07M  6.02MB/s   eta 11s   "
       ]
      },
      {
       "output_type": "stream",
       "stream": "stdout",
       "text": [
        "\r",
        "   Land_and_Ocean_L  85%[=================>    ] 349.23M  5.98MB/s   eta 11s   "
       ]
      },
      {
       "output_type": "stream",
       "stream": "stdout",
       "text": [
        "\r",
        "  Land_and_Ocean_La  85%[=================>    ] 350.45M  5.98MB/s   eta 10s   "
       ]
      },
      {
       "output_type": "stream",
       "stream": "stdout",
       "text": [
        "\r",
        " Land_and_Ocean_Lat  85%[=================>    ] 351.73M  6.04MB/s   eta 10s   "
       ]
      },
      {
       "output_type": "stream",
       "stream": "stdout",
       "text": [
        "\r",
        "Land_and_Ocean_LatL  85%[=================>    ] 352.96M  6.04MB/s   eta 10s   "
       ]
      },
      {
       "output_type": "stream",
       "stream": "stdout",
       "text": [
        "\r",
        "and_and_Ocean_LatLo  86%[=================>    ] 354.18M  6.03MB/s   eta 10s   "
       ]
      },
      {
       "output_type": "stream",
       "stream": "stdout",
       "text": [
        "\r",
        "nd_and_Ocean_LatLon  86%[==================>   ] 355.35M  6.03MB/s   eta 10s   "
       ]
      },
      {
       "output_type": "stream",
       "stream": "stdout",
       "text": [
        "\r",
        "d_and_Ocean_LatLong  86%[==================>   ] 356.53M  6.07MB/s   eta 9s    "
       ]
      },
      {
       "output_type": "stream",
       "stream": "stdout",
       "text": [
        "\r",
        "_and_Ocean_LatLong1  87%[==================>   ] 357.76M  6.08MB/s   eta 9s    "
       ]
      },
      {
       "output_type": "stream",
       "stream": "stdout",
       "text": [
        "\r",
        "and_Ocean_LatLong1.  87%[==================>   ] 358.99M  6.05MB/s   eta 9s    "
       ]
      },
      {
       "output_type": "stream",
       "stream": "stdout",
       "text": [
        "\r",
        "nd_Ocean_LatLong1.n  87%[==================>   ] 360.15M  6.03MB/s   eta 9s    "
       ]
      },
      {
       "output_type": "stream",
       "stream": "stdout",
       "text": [
        "\r",
        "d_Ocean_LatLong1.nc  88%[==================>   ] 361.46M  6.07MB/s   eta 9s    "
       ]
      },
      {
       "output_type": "stream",
       "stream": "stdout",
       "text": [
        "\r",
        "_Ocean_LatLong1.nc.  88%[==================>   ] 362.75M  6.07MB/s   eta 8s    "
       ]
      },
      {
       "output_type": "stream",
       "stream": "stdout",
       "text": [
        "\r",
        "Ocean_LatLong1.nc.1  88%[==================>   ] 364.06M  6.10MB/s   eta 8s    "
       ]
      },
      {
       "output_type": "stream",
       "stream": "stdout",
       "text": [
        "\r",
        "cean_LatLong1.nc.1   88%[==================>   ] 365.22M  6.08MB/s   eta 8s    "
       ]
      },
      {
       "output_type": "stream",
       "stream": "stdout",
       "text": [
        "\r",
        "ean_LatLong1.nc.1    89%[==================>   ] 366.64M  6.16MB/s   eta 8s    "
       ]
      },
      {
       "output_type": "stream",
       "stream": "stdout",
       "text": [
        "\r",
        "an_LatLong1.nc.1     89%[==================>   ] 367.92M  6.18MB/s   eta 8s    "
       ]
      },
      {
       "output_type": "stream",
       "stream": "stdout",
       "text": [
        "\r",
        "n_LatLong1.nc.1      89%[==================>   ] 369.16M  6.21MB/s   eta 7s    "
       ]
      },
      {
       "output_type": "stream",
       "stream": "stdout",
       "text": [
        "\r",
        "_LatLong1.nc.1       90%[==================>   ] 370.64M  6.29MB/s   eta 7s    "
       ]
      },
      {
       "output_type": "stream",
       "stream": "stdout",
       "text": [
        "\r",
        "LatLong1.nc.1        90%[==================>   ] 371.96M  6.30MB/s   eta 7s    "
       ]
      },
      {
       "output_type": "stream",
       "stream": "stdout",
       "text": [
        "\r",
        "atLong1.nc.1         90%[===================>  ] 373.47M  6.40MB/s   eta 7s    "
       ]
      },
      {
       "output_type": "stream",
       "stream": "stdout",
       "text": [
        "\r",
        "tLong1.nc.1          91%[===================>  ] 374.94M  6.47MB/s   eta 7s    "
       ]
      },
      {
       "output_type": "stream",
       "stream": "stdout",
       "text": [
        "\r",
        "Long1.nc.1           91%[===================>  ] 376.39M  6.61MB/s   eta 6s    "
       ]
      },
      {
       "output_type": "stream",
       "stream": "stdout",
       "text": [
        "\r",
        "ong1.nc.1            92%[===================>  ] 377.62M  6.53MB/s   eta 6s    "
       ]
      },
      {
       "output_type": "stream",
       "stream": "stdout",
       "text": [
        "\r",
        "ng1.nc.1             92%[===================>  ] 379.08M  6.63MB/s   eta 6s    "
       ]
      },
      {
       "output_type": "stream",
       "stream": "stdout",
       "text": [
        "\r",
        "g1.nc.1              92%[===================>  ] 380.60M  6.76MB/s   eta 6s    "
       ]
      },
      {
       "output_type": "stream",
       "stream": "stdout",
       "text": [
        "\r",
        "1.nc.1               93%[===================>  ] 382.13M  6.80MB/s   eta 6s    "
       ]
      },
      {
       "output_type": "stream",
       "stream": "stdout",
       "text": [
        "\r",
        ".nc.1                93%[===================>  ] 383.75M  6.93MB/s   eta 5s    "
       ]
      },
      {
       "output_type": "stream",
       "stream": "stdout",
       "text": [
        "\r",
        "nc.1                 93%[===================>  ] 385.33M  6.97MB/s   eta 5s    "
       ]
      },
      {
       "output_type": "stream",
       "stream": "stdout",
       "text": [
        "\r",
        "c.1                  94%[===================>  ] 387.09M  7.13MB/s   eta 5s    "
       ]
      },
      {
       "output_type": "stream",
       "stream": "stdout",
       "text": [
        "\r",
        ".1                   94%[===================>  ] 388.81M  7.29MB/s   eta 5s    "
       ]
      },
      {
       "output_type": "stream",
       "stream": "stdout",
       "text": [
        "\r",
        "1                    94%[===================>  ] 389.84M  7.15MB/s   eta 5s    "
       ]
      },
      {
       "output_type": "stream",
       "stream": "stdout",
       "text": [
        "\r",
        "                     95%[===================>  ] 391.17M  7.16MB/s   eta 3s    "
       ]
      },
      {
       "output_type": "stream",
       "stream": "stdout",
       "text": [
        "\r",
        "                  L  95%[====================> ] 392.45M  7.15MB/s   eta 3s    "
       ]
      },
      {
       "output_type": "stream",
       "stream": "stdout",
       "text": [
        "\r",
        "                 La  95%[====================> ] 393.78M  7.13MB/s   eta 3s    "
       ]
      },
      {
       "output_type": "stream",
       "stream": "stdout",
       "text": [
        "\r",
        "                Lan  96%[====================> ] 395.08M  7.12MB/s   eta 3s    "
       ]
      },
      {
       "output_type": "stream",
       "stream": "stdout",
       "text": [
        "\r",
        "               Land  96%[====================> ] 396.55M  7.12MB/s   eta 3s    "
       ]
      },
      {
       "output_type": "stream",
       "stream": "stdout",
       "text": [
        "\r",
        "              Land_  96%[====================> ] 397.94M  7.07MB/s   eta 2s    "
       ]
      },
      {
       "output_type": "stream",
       "stream": "stdout",
       "text": [
        "\r",
        "             Land_a  97%[====================> ] 399.35M  7.06MB/s   eta 2s    "
       ]
      },
      {
       "output_type": "stream",
       "stream": "stdout",
       "text": [
        "\r",
        "            Land_an  97%[====================> ] 400.93M  7.23MB/s   eta 2s    "
       ]
      },
      {
       "output_type": "stream",
       "stream": "stdout",
       "text": [
        "\r",
        "           Land_and  98%[====================> ] 402.38M  7.16MB/s   eta 2s    "
       ]
      },
      {
       "output_type": "stream",
       "stream": "stdout",
       "text": [
        "\r",
        "          Land_and_  98%[====================> ] 403.75M  7.17MB/s   eta 2s    "
       ]
      },
      {
       "output_type": "stream",
       "stream": "stdout",
       "text": [
        "\r",
        "         Land_and_O  98%[====================> ] 405.37M  7.15MB/s   eta 1s    "
       ]
      },
      {
       "output_type": "stream",
       "stream": "stdout",
       "text": [
        "\r",
        "        Land_and_Oc  99%[====================> ] 406.96M  7.16MB/s   eta 1s    "
       ]
      },
      {
       "output_type": "stream",
       "stream": "stdout",
       "text": [
        "\r",
        "       Land_and_Oce  99%[====================> ] 408.64M  7.23MB/s   eta 1s    "
       ]
      },
      {
       "output_type": "stream",
       "stream": "stdout",
       "text": [
        "\r",
        "      Land_and_Ocea  99%[====================> ] 410.30M  7.14MB/s   eta 1s    \r",
        "Land_and_Ocean_LatL 100%[=====================>] 410.45M  7.15MB/s   in 68s    \r\n",
        "\r\n",
        "2016-01-25 15:13:21 (6.00 MB/s) - 'capture/Land_and_Ocean_LatLong1.nc.1' saved [430385139/430385139]\r\n",
        "\r\n"
       ]
      }
     ],
     "prompt_number": 2
    },
    {
     "cell_type": "code",
     "collapsed": false,
     "input": [
      "# Create monthly values dir\n",
      "if not os.path.exists(\"capture/monthly_values\"):\n",
      "    os.mkdir(\"capture/monthly_values\")"
     ],
     "language": "python",
     "metadata": {},
     "outputs": [],
     "prompt_number": 3
    },
    {
     "cell_type": "code",
     "collapsed": false,
     "input": [],
     "language": "python",
     "metadata": {},
     "outputs": []
    }
   ],
   "metadata": {}
  }
 ]
}