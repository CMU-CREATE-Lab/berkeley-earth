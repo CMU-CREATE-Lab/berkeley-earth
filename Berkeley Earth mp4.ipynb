{
 "metadata": {
  "name": "",
  "signature": "sha256:279ae627c8b2a128de6ffbdc3ee35023d15e5c171600c9d9ef03cc76abdb9fcb"
 },
 "nbformat": 3,
 "nbformat_minor": 0,
 "worksheets": [
  {
   "cells": [
    {
     "cell_type": "code",
     "collapsed": false,
     "input": [
      "# Setup capture dir\n",
      "import os\n",
      "\n",
      "if not os.path.exists(\"capture\"):\n",
      "    os.mkdir(\"capture\")"
     ],
     "language": "python",
     "metadata": {},
     "outputs": [],
     "prompt_number": 7
    },
    {
     "cell_type": "code",
     "collapsed": false,
     "input": [],
     "language": "python",
     "metadata": {},
     "outputs": []
    }
   ],
   "metadata": {}
  }
 ]
}