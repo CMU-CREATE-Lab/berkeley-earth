{
 "metadata": {
  "name": "",
  "signature": "sha256:5a7b87a5a3654be25d2a3470544fddaf91ded3df36f3d57046b2c2f13223ace6"
 },
 "nbformat": 3,
 "nbformat_minor": 0,
 "worksheets": [
  {
   "cells": [
    {
     "cell_type": "code",
     "collapsed": false,
     "input": [
      "# Setup capture dir\n",
      "import os\n",
      "\n",
      "if not os.path.exists(\"capture\"):\n",
      "    os.mkdir(\"capture\")"
     ],
     "language": "python",
     "metadata": {},
     "outputs": []
    },
    {
     "cell_type": "code",
     "collapsed": false,
     "input": [
      "# Download Berkeley Earth Land and Ocean Temperature anomaly data\n",
      "command = \"wget -P capture/ http://berkeleyearth.lbl.gov/auto/Global/Gridded/Land_and_Ocean_LatLong1.nc\"\n",
      "!$command  "
     ],
     "language": "python",
     "metadata": {},
     "outputs": []
    },
    {
     "cell_type": "code",
     "collapsed": false,
     "input": [
      "# Create monthly values dir\n",
      "if not os.path.exists(\"capture/monthly_values\"):\n",
      "    os.mkdir(\"capture/monthly_values\")"
     ],
     "language": "python",
     "metadata": {},
     "outputs": []
    },
    {
     "cell_type": "code",
     "collapsed": false,
     "input": [
      "import math\n",
      "import netCDF4\n",
      "import datetime as dt  # Python standard library datetime  module\n",
      "import numpy as np\n",
      "import matplotlib.pyplot as plt\n",
      "from mpl_toolkits.basemap import Basemap, addcyclic, shiftgrid\n",
      "from matplotlib.colors import LinearSegmentedColormap\n",
      "\n",
      "def getTime(datestamp):\n",
      "    m, y = math.modf(datestamp)\n",
      "    y = int(y)\n",
      "    m = (24*m + 1)/2\n",
      "    m = str(m).split(\".\")[0]\n",
      "    if m == \"0\":\n",
      "        m = \"1\"\n",
      "    m = str(m).zfill(2)\n",
      "    _date = \"%s-%s\" % (y, m)\n",
      "    return _date"
     ],
     "language": "python",
     "metadata": {},
     "outputs": []
    },
    {
     "cell_type": "code",
     "collapsed": false,
     "input": [
      "filename = \"Land_and_Ocean_LatLong1.nc\"\n",
      "dataset = netCDF4.Dataset(filename)\n",
      "times = dataset.variables['time']\n",
      "lats = dataset.variables['latitude'][:]\n",
      "lons = dataset.variables['longitude'][:]\n",
      "lons, lats = np.meshgrid(lons,lats)\n",
      "\n",
      "colors= ['#00008b','#1c1eb8','#3642d3','#4766e5','#518af1','#52b0fa','#46d7fe','#ffffff','#ffe250','#ffb90b','#ff8a00','#f25f00','#d73700','#b51302','#8b0000']\n",
      "\n",
      "for i in range(0, len(times)):\n",
      "    cmap = LinearSegmentedColormap.from_list(\"my_colormap\", colors, N=256, gamma=1.0)\n",
      "    temperatures = dataset.variables['temperature'][i,:].squeeze()\n",
      "    fig = plt.figure()\n",
      "    m = Basemap(projection=\"hammer\", lon_0=0, llcrnrlat=-90, urcrnrlat=90, \\\n",
      "                llcrnrlon=-180, urcrnrlon=180, resolution='c')\n",
      "    im1 = m.pcolormesh(lons,lats,temperatures,shading='flat',cmap=cmap,latlon=True,vmin=-8.0, vmax=8.0)\n",
      "    m.drawcoastlines(linewidth=0.35,color='0.15')\n",
      "    cb = m.colorbar(im1,\"bottom\", size=\"5%\", pad=\"5%\")\n",
      "    cb.set_label('Temperature Anomaly  ($^\\circ$C)')\n",
      "    d = getTime(times[i])\n",
      "    plt.title(\"Berkeley Earth: %s\" % d )  \n",
      "    plt.savefig(\"capture/monthly_values/%s.png\" % d, bbox_inches='tight', pad_inches=0.2)\n",
      "    plt.close()    "
     ],
     "language": "python",
     "metadata": {},
     "outputs": []
    },
    {
     "cell_type": "code",
     "collapsed": false,
     "input": [
      "command = \"ffmpeg -framerate 30 -pattern_type glob -i 'capture/monthly_values/*.png' -c:v libx264 -s:v 640x480 -pix_fmt yuv420p capture/monthly_values/out.mp4\"\n",
      "!$command  "
     ],
     "language": "python",
     "metadata": {},
     "outputs": []
    },
    {
     "cell_type": "code",
     "collapsed": false,
     "input": [
      "# Create 12_month_averages dir\n",
      "if not os.path.exists(\"capture/12_month_averages\"):\n",
      "    os.mkdir(\"capture/12_month_averages\")"
     ],
     "language": "python",
     "metadata": {},
     "outputs": []
    },
    {
     "cell_type": "code",
     "collapsed": false,
     "input": [
      "n = 1850.5\n",
      "fraction = 1/12.\n",
      "for i in range(0, len(times) - 11):\n",
      "    colors = ['#34004d','#330061','#2e0077','#24008e','#0000a6','#0418b7','#0529c9','#0439db','#0048ed','#338ff6','#00d3fd','#acfcfe','#ffffff','#fefeb3','#fed802', '#f99900','#ee5000', '#dd4000','#cc3100','#bb1e00','#ab0000', '#940012','#7e001d','#670026','#51002e']\n",
      "    cmap = LinearSegmentedColormap.from_list(\"my_colormap\", colors, N=256, gamma=1.0)\n",
      "    my_temperatures = [\n",
      "        dataset.variables['temperature'][i,:],\n",
      "        dataset.variables['temperature'][i + 1,:],\n",
      "        dataset.variables['temperature'][i + 2,:],\n",
      "        dataset.variables['temperature'][i + 3,:],\n",
      "        dataset.variables['temperature'][i + 4,:],\n",
      "        dataset.variables['temperature'][i + 5,:],\n",
      "        dataset.variables['temperature'][i + 6,:],\n",
      "        dataset.variables['temperature'][i + 7,:],\n",
      "        dataset.variables['temperature'][i + 8,:],\n",
      "        dataset.variables['temperature'][i + 9,:],\n",
      "        dataset.variables['temperature'][i + 10,:],\n",
      "        dataset.variables['temperature'][i + 11,:]\n",
      "    ]\n",
      "\n",
      "    a = np.ma.array(tuple(my_temperatures)).mean(axis=0)\n",
      "    temperatures = a.squeeze()\n",
      "    fig = plt.figure()\n",
      "    m = Basemap(projection=\"hammer\", lon_0=0, llcrnrlat=-90, urcrnrlat=90, \\\n",
      "                llcrnrlon=-180, urcrnrlon=180, resolution='c')\n",
      "    im1 = m.pcolormesh(lons,lats,temperatures,shading='flat',cmap=cmap,latlon=True,vmin=-6.0, vmax=6.0)\n",
      "    m.drawcoastlines(linewidth=0.35,color='0.15')\n",
      "    cb = m.colorbar(im1,\"bottom\", size=\"5%\", pad=\"5%\")\n",
      "    cb.set_label('Temperature Anomaly  ($^\\circ$C)')\n",
      "    timestamp = n + i* fraction\n",
      "    d = format(timestamp, '.2f')\n",
      "    plt.title(\"Berkeley Earth: %s\" % d,fontsize=12)  \n",
      "    plt.savefig(\"capture/12_month_averages/%s.png\" % d, bbox_inches='tight', pad_inches=0.2)\n",
      "    plt.close()    "
     ],
     "language": "python",
     "metadata": {},
     "outputs": []
    },
    {
     "cell_type": "code",
     "collapsed": false,
     "input": [
      "command = \"ffmpeg -framerate 30 -pattern_type glob -i 'capture/12_month_averages/*.png' -c:v libx264 -s:v 640x480 -pix_fmt yuv420p capture/12_month_averages/out.mp4\"\n",
      "!$command  "
     ],
     "language": "python",
     "metadata": {},
     "outputs": []
    },
    {
     "cell_type": "code",
     "collapsed": false,
     "input": [],
     "language": "python",
     "metadata": {},
     "outputs": []
    }
   ],
   "metadata": {}
  }
 ]
}